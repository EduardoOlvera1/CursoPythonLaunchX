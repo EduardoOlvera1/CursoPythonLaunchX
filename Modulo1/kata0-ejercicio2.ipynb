{
 "cells": [
  {
   "cell_type": "markdown",
   "metadata": {},
   "source": [
    "Declaramos la variable años luz"
   ]
  },
  {
   "cell_type": "code",
   "execution_count": 1,
   "metadata": {},
   "outputs": [],
   "source": [
    "lightyears = 3.26156"
   ]
  },
  {
   "cell_type": "markdown",
   "metadata": {},
   "source": [
    "Creame imprimimos un pequeño titulo"
   ]
  },
  {
   "cell_type": "code",
   "execution_count": 2,
   "metadata": {},
   "outputs": [
    {
     "name": "stdout",
     "output_type": "stream",
     "text": [
      "Convertidor de parsec a años luz\n"
     ]
    }
   ],
   "source": [
    "print(\"Convertidor de parsec a años luz\")"
   ]
  },
  {
   "cell_type": "markdown",
   "metadata": {},
   "source": [
    "Creamos una variable parsec que recibira informacion de la funcion input()"
   ]
  },
  {
   "cell_type": "code",
   "execution_count": null,
   "metadata": {},
   "outputs": [],
   "source": [
    "parsec = input(\"Introduzca el numero de parsec\")\n"
   ]
  },
  {
   "cell_type": "markdown",
   "metadata": {},
   "source": [
    "Para multiplicar años luz por parsec tenemos que convertir de int a float y posteriormente el resultado a String"
   ]
  },
  {
   "cell_type": "code",
   "execution_count": null,
   "metadata": {},
   "outputs": [],
   "source": [
    "print(str(parsec) + \" parsec, son \" + str(float(parsec) * lightyears) + \" años luz\")"
   ]
  }
 ],
 "metadata": {
  "interpreter": {
   "hash": "f8c192a0febaf647acdab5ed6ab4347440457ec6e2ce7c708faac07140525df7"
  },
  "kernelspec": {
   "display_name": "Python 3.10.2 64-bit",
   "language": "python",
   "name": "python3"
  },
  "language_info": {
   "codemirror_mode": {
    "name": "ipython",
    "version": 3
   },
   "file_extension": ".py",
   "mimetype": "text/x-python",
   "name": "python",
   "nbconvert_exporter": "python",
   "pygments_lexer": "ipython3",
   "version": "3.10.2"
  },
  "orig_nbformat": 4
 },
 "nbformat": 4,
 "nbformat_minor": 2
}
