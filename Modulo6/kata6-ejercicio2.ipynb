{
 "cells": [
  {
   "cell_type": "code",
   "execution_count": 8,
   "metadata": {},
   "outputs": [
    {
     "name": "stdout",
     "output_type": "stream",
     "text": [
      "Informacion Planeta Urano\n",
      "--------------------------------------------------------------------------------\n",
      "Los planetas mas cercanos del sol que Urano son ['Mercurio', 'Venus', 'Tierra', 'Marte', 'Jupiter', 'Saturno']\n",
      "Los planetas mas lejanos del sol que Urano son ['Neptuno']\n",
      "La distancia del sol a Urano es de 2872500000 km\n"
     ]
    }
   ],
   "source": [
    "planets = ['Mercurio', 'Venus', 'Tierra', 'Marte', 'Jupiter', 'Saturno', 'Urano', 'Neptuno']\n",
    "sun_distance = [57900000,108200000,149600000,227900000,778600000,1433500000,2872500000,4495100000]\n",
    "\n",
    "entrada = input(\"Intruze el nombre de un planeta del sistema solar\")\n",
    "\n",
    "entrada = entrada.capitalize()\n",
    "\n",
    "planeta_num = planets.index(entrada)\n",
    "\n",
    "print(\"Informacion Planeta \"+entrada)\n",
    "print(f\"{'-'*80}\")\n",
    "if planeta_num == 0:\n",
    "    print(\"No hay planeta mas cercano al sol que\",entrada)\n",
    "else:\n",
    "    print(\"Los planetas mas cercanos del sol que\",planets[planeta_num],\"son\",planets[0:planeta_num])\n",
    "if planeta_num == len(planets)-1:\n",
    "    print(\"No hay planeta mas lejano que\",entrada)\n",
    "else: \n",
    "    print(\"Los planetas mas lejanos del sol que\",planets[planeta_num],\"son\",planets[planeta_num+1:])\n",
    "print(\"La distancia del sol a\",entrada,\"es de\",sun_distance[planeta_num],\"km\")\n",
    "\n"
   ]
  }
 ],
 "metadata": {
  "interpreter": {
   "hash": "f8c192a0febaf647acdab5ed6ab4347440457ec6e2ce7c708faac07140525df7"
  },
  "kernelspec": {
   "display_name": "Python 3.10.2 64-bit",
   "language": "python",
   "name": "python3"
  },
  "language_info": {
   "codemirror_mode": {
    "name": "ipython",
    "version": 3
   },
   "file_extension": ".py",
   "mimetype": "text/x-python",
   "name": "python",
   "nbconvert_exporter": "python",
   "pygments_lexer": "ipython3",
   "version": "3.10.2"
  },
  "orig_nbformat": 4
 },
 "nbformat": 4,
 "nbformat_minor": 2
}
