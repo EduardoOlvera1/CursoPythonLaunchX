{
 "cells": [
  {
   "cell_type": "markdown",
   "metadata": {},
   "source": [
    "El formato tiene que acomodar información sobre otras lunas, por lo que debe ser genérico.\n",
    "\n",
    "En lugar de reemplazar las variables en una cadena larga como parte de un párrafo, utiliza la información para presentarla en un formato tabular. El resultado debería verse así:\n",
    "\n",
    "Gravity Facts about Ganymede\n",
    "-------------------------------------------------------------------------------\n",
    "Planet Name: Mars\n",
    "Gravity on Ganymede: 1.4300000000000002 m/s2"
   ]
  },
  {
   "cell_type": "code",
   "execution_count": 6,
   "metadata": {},
   "outputs": [
    {
     "name": "stdout",
     "output_type": "stream",
     "text": [
      "Datos De Gravedad Sobre: Zeus--------------------------------------------------------------------------------\n",
      "Nombre del planeta: Jupiter\n",
      "Gravedad: 2479.0 m/s2\n"
     ]
    }
   ],
   "source": [
    "# Datos con los que vas a trabajar\n",
    "\n",
    "planeta = \"Jupiter\"\n",
    "gravedad = 2.479 # in kms\n",
    "nombre = \"Zeus\"\n",
    "\n",
    "# Creamos el título\n",
    "\n",
    "titulo = \"Datos de gravedad sobre: {}\".format(nombre)\n",
    "\n",
    "# Creamos la plantilla\n",
    "\n",
    "descripcion = f\"\"\"{'-'*80}\n",
    "Nombre del planeta: {planeta}\n",
    "Gravedad: {gravedad*1000} m/s2\"\"\"\n",
    "\n",
    "# Unión de ambas cadenas\n",
    "\n",
    "plantilla_completa = f\"\"\"{titulo.title()}{descripcion}\"\"\"\n",
    "\n",
    "# print(nombre_plantilla)\n",
    "\n",
    "print(plantilla_completa)\n",
    "\n",
    "\n",
    "\n",
    "\n",
    "\n",
    "\n"
   ]
  }
 ],
 "metadata": {
  "interpreter": {
   "hash": "f8c192a0febaf647acdab5ed6ab4347440457ec6e2ce7c708faac07140525df7"
  },
  "kernelspec": {
   "display_name": "Python 3.10.2 64-bit",
   "language": "python",
   "name": "python3"
  },
  "language_info": {
   "codemirror_mode": {
    "name": "ipython",
    "version": 3
   },
   "file_extension": ".py",
   "mimetype": "text/x-python",
   "name": "python",
   "nbconvert_exporter": "python",
   "pygments_lexer": "ipython3",
   "version": "3.10.2"
  },
  "orig_nbformat": 4
 },
 "nbformat": 4,
 "nbformat_minor": 2
}
