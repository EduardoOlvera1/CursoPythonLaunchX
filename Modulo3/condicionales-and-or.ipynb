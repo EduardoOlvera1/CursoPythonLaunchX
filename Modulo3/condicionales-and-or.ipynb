{
 "cells": [
  {
   "cell_type": "markdown",
   "metadata": {},
   "source": [
    "# Agrega el código para crear nuevas variables para la velocidad y el tamaño del asteroide\n",
    "# Para probar el código, prueba con varias velocidades y tamaños\n",
    "# Escribe varias expresiones de prueba o combinaciones de expresiones de prueba para determinar qué mens"
   ]
  },
  {
   "cell_type": "code",
   "execution_count": 25,
   "metadata": {},
   "outputs": [
    {
     "name": "stdout",
     "output_type": "stream",
     "text": [
      "Posiblemente no cause mucho daño\n",
      "Pero hey, mira arriba y disfruta de un rayo de luz :P\n"
     ]
    }
   ],
   "source": [
    "min_width = 25 #Metros\n",
    "max_width = 1000 #Metros\n",
    "\n",
    "max_speed = 25 #Km/s\n",
    "rayo_luz = 20 #km/s\n",
    "\n",
    "asteroide_width = 10 #Metros\n",
    "asteroide_speed = 20 #Km/s\n",
    "\n",
    "if (asteroide_width > min_width and asteroide_width < max_width) or asteroide_speed > max_speed:\n",
    "    print(\"Alerta! El asteroide causara mucho daño\")\n",
    "    if asteroide_speed >= rayo_luz:\n",
    "        print(\"Pero hey, mira arriba y disfruta de un rayo de luz :P\")\n",
    "elif asteroide_speed < max_speed and asteroide_width < max_width:\n",
    "    print(\"Posiblemente no cause mucho daño\")\n",
    "    if asteroide_speed >= rayo_luz:\n",
    "        print(\"Pero hey, mira arriba y disfruta de un rayo de luz :P\")\n",
    "else:\n",
    "    print(\"y el asteroide?\")"
   ]
  }
 ],
 "metadata": {
  "interpreter": {
   "hash": "f8c192a0febaf647acdab5ed6ab4347440457ec6e2ce7c708faac07140525df7"
  },
  "kernelspec": {
   "display_name": "Python 3.10.2 64-bit",
   "language": "python",
   "name": "python3"
  },
  "language_info": {
   "codemirror_mode": {
    "name": "ipython",
    "version": 3
   },
   "file_extension": ".py",
   "mimetype": "text/x-python",
   "name": "python",
   "nbconvert_exporter": "python",
   "pygments_lexer": "ipython3",
   "version": "3.10.2"
  },
  "orig_nbformat": 4
 },
 "nbformat": 4,
 "nbformat_minor": 2
}
