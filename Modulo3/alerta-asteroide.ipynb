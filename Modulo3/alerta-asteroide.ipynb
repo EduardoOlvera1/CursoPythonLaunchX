{
 "cells": [
  {
   "cell_type": "markdown",
   "metadata": {},
   "source": [
    "# Añadir el código necesario para crear una variable que guarde la velocidad del asteroide.\n",
    "# Escribe una expresión de prueba para calcular si necesita una advertencia.\n",
    "# Agregue las instrucciones que se ejecutarán si la expresión de prueba es true o false.\n",
    "\n",
    "Un asteroide se acerca, y viaja a una velocidad de 49 km/s."
   ]
  },
  {
   "cell_type": "code",
   "execution_count": 11,
   "metadata": {},
   "outputs": [
    {
     "name": "stdout",
     "output_type": "stream",
     "text": [
      "Alerta! Se acerca un asteroide rapidamente, con una velocidad de 49 km/s\n"
     ]
    }
   ],
   "source": [
    "speedThreshold = 25\n",
    "asteroideSpeed = 49\n",
    "\n",
    "if asteroideSpeed > speedThreshold:\n",
    "    print(\"Alerta! Se acerca un asteroide rapidamente, con una velocidad de \"+str(asteroideSpeed) + \" km/s\")\n",
    "else:\n",
    "    print(\"El asteroide es demaciado lento, continue su vida...\")"
   ]
  }
 ],
 "metadata": {
  "interpreter": {
   "hash": "f8c192a0febaf647acdab5ed6ab4347440457ec6e2ce7c708faac07140525df7"
  },
  "kernelspec": {
   "display_name": "Python 3.10.2 64-bit",
   "language": "python",
   "name": "python3"
  },
  "language_info": {
   "codemirror_mode": {
    "name": "ipython",
    "version": 3
   },
   "file_extension": ".py",
   "mimetype": "text/x-python",
   "name": "python",
   "nbconvert_exporter": "python",
   "pygments_lexer": "ipython3",
   "version": "3.10.2"
  },
  "orig_nbformat": 4
 },
 "nbformat": 4,
 "nbformat_minor": 2
}
