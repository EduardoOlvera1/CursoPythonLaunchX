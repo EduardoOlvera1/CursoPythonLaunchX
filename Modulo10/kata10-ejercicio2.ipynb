{
 "cells": [
  {
   "cell_type": "code",
   "execution_count": 27,
   "metadata": {},
   "outputs": [
    {
     "ename": "RuntimeError",
     "evalue": "No habra agua disponible para los valores introducidos",
     "output_type": "error",
     "traceback": [
      "\u001b[1;31m---------------------------------------------------------------------------\u001b[0m",
      "\u001b[1;31mRuntimeError\u001b[0m                              Traceback (most recent call last)",
      "\u001b[1;32mUntitled-1.ipynb Cell 1'\u001b[0m in \u001b[0;36m<module>\u001b[1;34m\u001b[0m\n\u001b[0;32m     <a href='vscode-notebook-cell:Untitled-1.ipynb?jupyter-notebook#ch0000000untitled?line=11'>12</a>\u001b[0m     \u001b[39mexcept\u001b[39;00m \u001b[39mTypeError\u001b[39;00m \u001b[39mas\u001b[39;00m err:\n\u001b[0;32m     <a href='vscode-notebook-cell:Untitled-1.ipynb?jupyter-notebook#ch0000000untitled?line=12'>13</a>\u001b[0m         \u001b[39mraise\u001b[39;00m \u001b[39mTypeError\u001b[39;00m(\u001b[39m\"\u001b[39m\u001b[39mSolo se permiten valores de tipo \u001b[39m\u001b[39m'\u001b[39m\u001b[39mint\u001b[39m\u001b[39m'\u001b[39m\u001b[39m\"\u001b[39m)\n\u001b[1;32m---> <a href='vscode-notebook-cell:Untitled-1.ipynb?jupyter-notebook#ch0000000untitled?line=15'>16</a>\u001b[0m \u001b[39mprint\u001b[39m(aguaRestante(\u001b[39m5\u001b[39;49m,\u001b[39m100\u001b[39;49m,\u001b[39m2\u001b[39;49m))\n",
      "\u001b[1;32mUntitled-1.ipynb Cell 1'\u001b[0m in \u001b[0;36maguaRestante\u001b[1;34m(astronautas, litros_r, dias)\u001b[0m\n\u001b[0;32m      <a href='vscode-notebook-cell:Untitled-1.ipynb?jupyter-notebook#ch0000000untitled?line=4'>5</a>\u001b[0m     agua_r \u001b[39m=\u001b[39m litros_r \u001b[39m-\u001b[39m consumo_total\n\u001b[0;32m      <a href='vscode-notebook-cell:Untitled-1.ipynb?jupyter-notebook#ch0000000untitled?line=6'>7</a>\u001b[0m     \u001b[39mif\u001b[39;00m agua_r \u001b[39m<\u001b[39m \u001b[39m0\u001b[39m:\n\u001b[1;32m----> <a href='vscode-notebook-cell:Untitled-1.ipynb?jupyter-notebook#ch0000000untitled?line=7'>8</a>\u001b[0m         \u001b[39mraise\u001b[39;00m \u001b[39mRuntimeError\u001b[39;00m(\u001b[39m\"\u001b[39m\u001b[39mNo habra agua disponible para los valores introducidos\u001b[39m\u001b[39m\"\u001b[39m)\n\u001b[0;32m     <a href='vscode-notebook-cell:Untitled-1.ipynb?jupyter-notebook#ch0000000untitled?line=9'>10</a>\u001b[0m     \u001b[39mreturn\u001b[39;00m agua_r\n\u001b[0;32m     <a href='vscode-notebook-cell:Untitled-1.ipynb?jupyter-notebook#ch0000000untitled?line=11'>12</a>\u001b[0m \u001b[39mexcept\u001b[39;00m \u001b[39mTypeError\u001b[39;00m \u001b[39mas\u001b[39;00m err:\n",
      "\u001b[1;31mRuntimeError\u001b[0m: No habra agua disponible para los valores introducidos"
     ]
    }
   ],
   "source": [
    "def aguaRestante(astronautas,litros_r,dias):\n",
    "    try:\n",
    "        consumo = astronautas * 11\n",
    "        consumo_total = dias * consumo\n",
    "        agua_r = litros_r - consumo_total\n",
    "        \n",
    "        if agua_r < 0:\n",
    "            raise RuntimeError(\"No habra agua disponible para los valores introducidos\")\n",
    "\n",
    "        return agua_r\n",
    "\n",
    "    except TypeError as err:\n",
    "        raise TypeError(\"Solo se permiten valores de tipo 'int'\")\n",
    "    \n",
    "\n",
    "print(aguaRestante(5,100,2))\n"
   ]
  }
 ],
 "metadata": {
  "interpreter": {
   "hash": "f8c192a0febaf647acdab5ed6ab4347440457ec6e2ce7c708faac07140525df7"
  },
  "kernelspec": {
   "display_name": "Python 3.10.2 64-bit",
   "language": "python",
   "name": "python3"
  },
  "language_info": {
   "codemirror_mode": {
    "name": "ipython",
    "version": 3
   },
   "file_extension": ".py",
   "mimetype": "text/x-python",
   "name": "python",
   "nbconvert_exporter": "python",
   "pygments_lexer": "ipython3",
   "version": "3.10.2"
  },
  "orig_nbformat": 4
 },
 "nbformat": 4,
 "nbformat_minor": 2
}
