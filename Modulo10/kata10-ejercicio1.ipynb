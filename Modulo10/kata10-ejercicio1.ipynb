{
 "cells": [
  {
   "cell_type": "code",
   "execution_count": 25,
   "metadata": {},
   "outputs": [
    {
     "name": "stdout",
     "output_type": "stream",
     "text": [
      "este es mi archivo de txt\n"
     ]
    }
   ],
   "source": [
    "def main():\n",
    "    try:\n",
    "        print(open('configd.txt').read())\n",
    "    except OSError as ex:\n",
    "        if ex.errno == 13:\n",
    "            print(\"Permiso denegado para este archivo/directorio\")\n",
    "        elif ex.errno == 2:\n",
    "            print(\"Archivo no encontrado\")\n",
    "        elif ex.errno == 21:\n",
    "            print(\"No se puede leer un directorio\")\n",
    "        else:\n",
    "            print(\"error:\",ex)\n",
    "\n",
    "if __name__ == '__main__':\n",
    "    main()"
   ]
  }
 ],
 "metadata": {
  "interpreter": {
   "hash": "f8c192a0febaf647acdab5ed6ab4347440457ec6e2ce7c708faac07140525df7"
  },
  "kernelspec": {
   "display_name": "Python 3.10.2 64-bit",
   "language": "python",
   "name": "python3"
  },
  "language_info": {
   "codemirror_mode": {
    "name": "ipython",
    "version": 3
   },
   "file_extension": ".py",
   "mimetype": "text/x-python",
   "name": "python",
   "nbconvert_exporter": "python",
   "pygments_lexer": "ipython3",
   "version": "3.10.2"
  },
  "orig_nbformat": 4
 },
 "nbformat": 4,
 "nbformat_minor": 2
}
