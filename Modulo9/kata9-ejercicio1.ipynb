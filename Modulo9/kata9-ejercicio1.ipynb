{
 "cells": [
  {
   "cell_type": "code",
   "execution_count": 25,
   "metadata": {},
   "outputs": [
    {
     "name": "stdout",
     "output_type": "stream",
     "text": [
      "Reporte V1:\n",
      " Reporte:\n",
      "    Promedio: 83.33333333333333\n",
      "    Tanque 1: 80\n",
      "    Tanque 2: 95\n",
      "    Tanque 3: 75\n",
      "--------------------------------------------------------------------------------\n",
      "Reporte V2:\n",
      " Reporte:\n",
      "    Promedio: 83.33333333333333\n",
      "    Tanque 1: 80\n",
      "    Tanque 2: 95\n",
      "    Tanque 3: 75\n"
     ]
    }
   ],
   "source": [
    "# Función para leer 3 tanques de combustible y muestre el promedio\n",
    "\n",
    "def generarReporte(tank1,tank2,tank3):\n",
    "    promedio = (tank1+tank2+tank3) / 3 \n",
    "    reporte = f\"\"\"Reporte:\n",
    "    Promedio: {promedio}\n",
    "    Tanque 1: {tank1}\n",
    "    Tanque 2: {tank2}\n",
    "    Tanque 3: {tank3}\"\"\"\n",
    "    return reporte\n",
    "\n",
    "# Llamamos a la función que genera el reporte print(funcion(tanque1, tanque2, tanque3))\n",
    "\n",
    "print(\"Reporte V1:\\n\",generarReporte(80,95,75))\n",
    "\n",
    "# Función promedio \n",
    "\n",
    "def promedio(lista):\n",
    "    suma = sum(lista)\n",
    "    itemcount = len(lista)\n",
    "    return suma / itemcount\n",
    "\n",
    "# Actualiza la función\n",
    "# Reutilize el codigo para que se vea mi primer ejercicio\n",
    "\n",
    "def generarReporteV2(tank1,tank2,tank3):\n",
    "    prom = promedio([tank1,tank2,tank3])\n",
    "    reporte = f\"\"\"Reporte:\n",
    "    Promedio: {prom}\n",
    "    Tanque 1: {tank1}\n",
    "    Tanque 2: {tank2}\n",
    "    Tanque 3: {tank3}\"\"\"\n",
    "    return reporte\n",
    "\n",
    "print(f\"{'-'*80}\")\n",
    "print(\"Reporte V2:\\n\",generarReporteV2(80,95,75))\n"
   ]
  }
 ],
 "metadata": {
  "interpreter": {
   "hash": "f8c192a0febaf647acdab5ed6ab4347440457ec6e2ce7c708faac07140525df7"
  },
  "kernelspec": {
   "display_name": "Python 3.10.2 64-bit",
   "language": "python",
   "name": "python3"
  },
  "language_info": {
   "codemirror_mode": {
    "name": "ipython",
    "version": 3
   },
   "file_extension": ".py",
   "mimetype": "text/x-python",
   "name": "python",
   "nbconvert_exporter": "python",
   "pygments_lexer": "ipython3",
   "version": "3.10.2"
  },
  "orig_nbformat": 4
 },
 "nbformat": 4,
 "nbformat_minor": 2
}
