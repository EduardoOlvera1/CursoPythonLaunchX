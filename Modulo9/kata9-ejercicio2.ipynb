{
 "cells": [
  {
   "cell_type": "code",
   "execution_count": 35,
   "metadata": {},
   "outputs": [
    {
     "name": "stdout",
     "output_type": "stream",
     "text": [
      "\n",
      "    Informe de viaje V2\n",
      "    --------------------------------------------------------------------------------\n",
      "    Destino:Moon\n",
      "    Tiempo de vuelo: 76 minutos\n",
      "    Reserva de tanques: 500000\n",
      "    --------------------------------------------------------------------------------\n",
      "main tiene 300000 litros\n",
      "external tiene 200000 litros\n",
      "\n"
     ]
    }
   ],
   "source": [
    "# Función con un informe preciso de la misión. Considera hora de prelanzamiento, tiempo de vuelo, destino, tanque externo y tanque interno\n",
    "\n",
    "def informe(pre_launch,flytime,destination,external_tank,internal_tank):\n",
    "    informe = f\"\"\"Informe de viaje\n",
    "    {'-'*80}\n",
    "    Destino:{destination}\n",
    "    Tiempo de vuelo:{pre_launch + flytime} minutos\n",
    "    Total tanque:{external_tank + internal_tank} litros\"\"\"\n",
    "    return informe\n",
    "\n",
    "# print(informe(14, 51, \"Moon\", 200000, 300000))\n",
    "\n",
    "def informe_nuevo(destino,*minutos,**tanques_r):\n",
    "    reporte = f\"\"\"Informe de viaje V2\n",
    "    {'-'*80}\n",
    "    Destino:{destino}\n",
    "    Tiempo de vuelo: {sum(minutos)} minutos\n",
    "    Reserva de tanques: {sum(tanques_r.values())}\"\"\"\n",
    "    return reporte\n",
    "\n",
    "# print(informe_nuevo(\"Moon\", 10, 15, 51, main=300000, external=200000))\n",
    "\n",
    "def informe_nuevo2(destino,*minutos,**tanques_r):\n",
    "    reporte = f\"\"\"\n",
    "    Informe de viaje V2\n",
    "    {'-'*80}\n",
    "    Destino:{destino}\n",
    "    Tiempo de vuelo: {sum(minutos)} minutos\n",
    "    Reserva de tanques: {sum(tanques_r.values())}\n",
    "    {'-'*80}\\n\"\"\"\n",
    "\n",
    "    for tanque,litros in tanques_r.items():\n",
    "        reporte = reporte + f\"{tanque} tiene {litros} litros\\n\"\n",
    "\n",
    "    return reporte\n",
    "\n",
    "print(informe_nuevo2(\"Moon\", 10, 15, 51, main=300000, external=200000))\n",
    "\n",
    "\n",
    "\n",
    "\n",
    "\n"
   ]
  }
 ],
 "metadata": {
  "interpreter": {
   "hash": "f8c192a0febaf647acdab5ed6ab4347440457ec6e2ce7c708faac07140525df7"
  },
  "kernelspec": {
   "display_name": "Python 3.10.2 64-bit",
   "language": "python",
   "name": "python3"
  },
  "language_info": {
   "codemirror_mode": {
    "name": "ipython",
    "version": 3
   },
   "file_extension": ".py",
   "mimetype": "text/x-python",
   "name": "python",
   "nbconvert_exporter": "python",
   "pygments_lexer": "ipython3",
   "version": "3.10.2"
  },
  "orig_nbformat": 4
 },
 "nbformat": 4,
 "nbformat_minor": 2
}
